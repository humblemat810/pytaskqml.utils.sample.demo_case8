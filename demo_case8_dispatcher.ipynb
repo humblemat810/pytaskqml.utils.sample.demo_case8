{
 "cells": [
  {
   "cell_type": "markdown",
   "metadata": {},
   "source": [
    "Before start using, make sure you have installed virtual environment by running\n",
    "```bash\n",
    "python -m venv ./.democase8venv\n",
    "```\n",
    "then run in windows:\n",
    "```sh\n",
    ".democase8venv\\Scripts\\activate.bat\n",
    "```\n",
    "and Linux:\n",
    "```bash\n",
    ". ./.democase8venv/Scripts/activate\n",
    "```\n",
    "\n",
    "then run\n",
    "```python3\n",
    "pip install ipykernel jupyter notebook\n",
    "```\n",
    "\n",
    "You also need either compiled openCV binary or self compile opencv"
   ]
  },
  {
   "cell_type": "code",
   "execution_count": 9,
   "metadata": {},
   "outputs": [
    {
     "data": {
      "text/plain": [
       "'d:\\\\projects\\\\test_wav2lip\\\\socket_ml_orchestrator\\\\src\\\\pytaskqml\\\\utils\\\\sample\\\\demo_case8'"
      ]
     },
     "execution_count": 9,
     "metadata": {},
     "output_type": "execute_result"
    }
   ],
   "source": [
    "pwd"
   ]
  },
  {
   "cell_type": "code",
   "execution_count": null,
   "metadata": {},
   "outputs": [],
   "source": [
    "!pip3 install -e ../../../../../"
   ]
  },
  {
   "cell_type": "code",
   "execution_count": null,
   "metadata": {},
   "outputs": [],
   "source": [
    "!pip3 install torch torchvision torchaudio --index-url https://download.pytorch.org/whl/cu118"
   ]
  },
  {
   "cell_type": "code",
   "execution_count": 1,
   "metadata": {},
   "outputs": [
    {
     "name": "stdout",
     "output_type": "stream",
     "text": [
      "^C\n"
     ]
    }
   ],
   "source": [
    "!python -m pip uninstall matplotlib scipy"
   ]
  },
  {
   "cell_type": "code",
   "execution_count": 5,
   "metadata": {},
   "outputs": [
    {
     "name": "stdout",
     "output_type": "stream",
     "text": [
      "d:\\projects\\test_wav2lip\\socket_ml_orchestrator\\src\\pytaskqml\\utils\\sample\\demo_case8\\.democase8venv\\Scripts\\python.exe\n",
      "C:\\Users\\Cherry\\.pyenv\\pyenv-win\\versions\\3.9.13\\python.exe\n",
      "C:\\Users\\Cherry\\.pyenv\\pyenv-win\\versions\\3.8.10\\python.exe\n",
      "C:\\Users\\Cherry\\.pyenv\\pyenv-win\\versions\\3.9.11\\python.exe\n",
      "C:\\Users\\Cherry\\AppData\\Local\\Programs\\Python\\Python38\\python.exe\n"
     ]
    }
   ],
   "source": [
    "!where python"
   ]
  },
  {
   "cell_type": "code",
   "execution_count": 6,
   "metadata": {},
   "outputs": [
    {
     "name": "stdout",
     "output_type": "stream",
     "text": [
      "Python 3.9.13\n"
     ]
    }
   ],
   "source": [
    "!python --version"
   ]
  },
  {
   "cell_type": "markdown",
   "metadata": {},
   "source": []
  },
  {
   "cell_type": "code",
   "execution_count": 17,
   "metadata": {},
   "outputs": [
    {
     "ename": "ImportError",
     "evalue": "Matplotlib requires numpy>=1.21; you have 1.20.0",
     "output_type": "error",
     "traceback": [
      "\u001b[1;31m---------------------------------------------------------------------------\u001b[0m",
      "\u001b[1;31mImportError\u001b[0m                               Traceback (most recent call last)",
      "Cell \u001b[1;32mIn[17], line 1\u001b[0m\n\u001b[1;32m----> 1\u001b[0m \u001b[38;5;28;01mimport\u001b[39;00m \u001b[38;5;21;01mmatplotlib\u001b[39;00m\n",
      "File \u001b[1;32md:\\projects\\test_wav2lip\\socket_ml_orchestrator\\src\\pytaskqml\\utils\\sample\\demo_case8\\.democase8venv\\lib\\site-packages\\matplotlib\\__init__.py:286\u001b[0m\n\u001b[0;32m    281\u001b[0m         \u001b[38;5;28;01mif\u001b[39;00m parse_version(module\u001b[38;5;241m.\u001b[39m__version__) \u001b[38;5;241m<\u001b[39m parse_version(minver):\n\u001b[0;32m    282\u001b[0m             \u001b[38;5;28;01mraise\u001b[39;00m \u001b[38;5;167;01mImportError\u001b[39;00m(\u001b[38;5;124mf\u001b[39m\u001b[38;5;124m\"\u001b[39m\u001b[38;5;124mMatplotlib requires \u001b[39m\u001b[38;5;132;01m{\u001b[39;00mmodname\u001b[38;5;132;01m}\u001b[39;00m\u001b[38;5;124m>=\u001b[39m\u001b[38;5;132;01m{\u001b[39;00mminver\u001b[38;5;132;01m}\u001b[39;00m\u001b[38;5;124m; \u001b[39m\u001b[38;5;124m\"\u001b[39m\n\u001b[0;32m    283\u001b[0m                               \u001b[38;5;124mf\u001b[39m\u001b[38;5;124m\"\u001b[39m\u001b[38;5;124myou have \u001b[39m\u001b[38;5;132;01m{\u001b[39;00mmodule\u001b[38;5;241m.\u001b[39m__version__\u001b[38;5;132;01m}\u001b[39;00m\u001b[38;5;124m\"\u001b[39m)\n\u001b[1;32m--> 286\u001b[0m \u001b[43m_check_versions\u001b[49m\u001b[43m(\u001b[49m\u001b[43m)\u001b[49m\n\u001b[0;32m    289\u001b[0m \u001b[38;5;66;03m# The decorator ensures this always returns the same handler (and it is only\u001b[39;00m\n\u001b[0;32m    290\u001b[0m \u001b[38;5;66;03m# attached once).\u001b[39;00m\n\u001b[0;32m    291\u001b[0m \u001b[38;5;129m@functools\u001b[39m\u001b[38;5;241m.\u001b[39mcache\n\u001b[0;32m    292\u001b[0m \u001b[38;5;28;01mdef\u001b[39;00m \u001b[38;5;21m_ensure_handler\u001b[39m():\n",
      "File \u001b[1;32md:\\projects\\test_wav2lip\\socket_ml_orchestrator\\src\\pytaskqml\\utils\\sample\\demo_case8\\.democase8venv\\lib\\site-packages\\matplotlib\\__init__.py:282\u001b[0m, in \u001b[0;36m_check_versions\u001b[1;34m()\u001b[0m\n\u001b[0;32m    280\u001b[0m module \u001b[38;5;241m=\u001b[39m importlib\u001b[38;5;241m.\u001b[39mimport_module(modname)\n\u001b[0;32m    281\u001b[0m \u001b[38;5;28;01mif\u001b[39;00m parse_version(module\u001b[38;5;241m.\u001b[39m__version__) \u001b[38;5;241m<\u001b[39m parse_version(minver):\n\u001b[1;32m--> 282\u001b[0m     \u001b[38;5;28;01mraise\u001b[39;00m \u001b[38;5;167;01mImportError\u001b[39;00m(\u001b[38;5;124mf\u001b[39m\u001b[38;5;124m\"\u001b[39m\u001b[38;5;124mMatplotlib requires \u001b[39m\u001b[38;5;132;01m{\u001b[39;00mmodname\u001b[38;5;132;01m}\u001b[39;00m\u001b[38;5;124m>=\u001b[39m\u001b[38;5;132;01m{\u001b[39;00mminver\u001b[38;5;132;01m}\u001b[39;00m\u001b[38;5;124m; \u001b[39m\u001b[38;5;124m\"\u001b[39m\n\u001b[0;32m    283\u001b[0m                       \u001b[38;5;124mf\u001b[39m\u001b[38;5;124m\"\u001b[39m\u001b[38;5;124myou have \u001b[39m\u001b[38;5;132;01m{\u001b[39;00mmodule\u001b[38;5;241m.\u001b[39m__version__\u001b[38;5;132;01m}\u001b[39;00m\u001b[38;5;124m\"\u001b[39m)\n",
      "\u001b[1;31mImportError\u001b[0m: Matplotlib requires numpy>=1.21; you have 1.20.0"
     ]
    }
   ],
   "source": [
    "import matplotlib"
   ]
  },
  {
   "cell_type": "code",
   "execution_count": 14,
   "metadata": {},
   "outputs": [
    {
     "name": "stdout",
     "output_type": "stream",
     "text": [
      "Collecting matplotlib\n",
      "  Downloading matplotlib-3.8.2-cp39-cp39-win_amd64.whl (7.6 MB)\n",
      "     ---------------------------------------- 7.6/7.6 MB 10.4 MB/s eta 0:00:00\n",
      "Collecting pycocotools\n",
      "  Downloading pycocotools-2.0.7-cp39-cp39-win_amd64.whl (85 kB)\n",
      "     ---------------------------------------- 85.1/85.1 KB 4.7 MB/s eta 0:00:00\n",
      "Collecting tqdm\n",
      "  Using cached tqdm-4.66.1-py3-none-any.whl (78 kB)\n",
      "Requirement already satisfied: pillow in .\\.democase8venv\\lib\\site-packages (from -r ./requirements.txt (line 4)) (9.3.0)\n",
      "Collecting tensorboard>=1.14\n",
      "  Downloading tensorboard-2.15.1-py3-none-any.whl (5.5 MB)\n",
      "     ---------------------------------------- 5.5/5.5 MB 12.7 MB/s eta 0:00:00\n",
      "Requirement already satisfied: numpy<2,>=1.21 in .\\.democase8venv\\lib\\site-packages (from matplotlib->-r ./requirements.txt (line 1)) (1.26.2)\n",
      "Collecting importlib-resources>=3.2.0\n",
      "  Downloading importlib_resources-6.1.1-py3-none-any.whl (33 kB)\n",
      "Collecting cycler>=0.10\n",
      "  Using cached cycler-0.12.1-py3-none-any.whl (8.3 kB)\n",
      "Collecting contourpy>=1.0.1\n",
      "  Downloading contourpy-1.2.0-cp39-cp39-win_amd64.whl (181 kB)\n",
      "     ------------------------------------- 181.9/181.9 KB 10.7 MB/s eta 0:00:00\n",
      "Collecting fonttools>=4.22.0\n",
      "  Downloading fonttools-4.46.0-cp39-cp39-win_amd64.whl (2.2 MB)\n",
      "     ---------------------------------------- 2.2/2.2 MB 13.9 MB/s eta 0:00:00\n",
      "Requirement already satisfied: python-dateutil>=2.7 in .\\.democase8venv\\lib\\site-packages (from matplotlib->-r ./requirements.txt (line 1)) (2.8.2)\n",
      "Collecting kiwisolver>=1.3.1\n",
      "  Using cached kiwisolver-1.4.5-cp39-cp39-win_amd64.whl (56 kB)\n",
      "Collecting pyparsing>=2.3.1\n",
      "  Using cached pyparsing-3.1.1-py3-none-any.whl (103 kB)\n",
      "Requirement already satisfied: packaging>=20.0 in .\\.democase8venv\\lib\\site-packages (from matplotlib->-r ./requirements.txt (line 1)) (23.2)\n",
      "Requirement already satisfied: colorama in .\\.democase8venv\\lib\\site-packages (from tqdm->-r ./requirements.txt (line 3)) (0.4.6)\n",
      "Collecting protobuf<4.24,>=3.19.6\n",
      "  Downloading protobuf-4.23.4-cp39-cp39-win_amd64.whl (422 kB)\n",
      "     ------------------------------------- 422.5/422.5 KB 13.3 MB/s eta 0:00:00\n",
      "Requirement already satisfied: six>1.9 in .\\.democase8venv\\lib\\site-packages (from tensorboard>=1.14->-r ./requirements.txt (line 5)) (1.16.0)\n",
      "Collecting absl-py>=0.4\n",
      "  Using cached absl_py-2.0.0-py3-none-any.whl (130 kB)\n",
      "Requirement already satisfied: requests<3,>=2.21.0 in .\\.democase8venv\\lib\\site-packages (from tensorboard>=1.14->-r ./requirements.txt (line 5)) (2.31.0)\n",
      "Collecting tensorboard-data-server<0.8.0,>=0.7.0\n",
      "  Downloading tensorboard_data_server-0.7.2-py3-none-any.whl (2.4 kB)\n",
      "Collecting werkzeug>=1.0.1\n",
      "  Downloading werkzeug-3.0.1-py3-none-any.whl (226 kB)\n",
      "     -------------------------------------- 226.7/226.7 KB 7.0 MB/s eta 0:00:00\n",
      "Collecting grpcio>=1.48.2\n",
      "  Downloading grpcio-1.60.0-cp39-cp39-win_amd64.whl (3.7 MB)\n",
      "     ---------------------------------------- 3.7/3.7 MB 11.3 MB/s eta 0:00:00\n",
      "Collecting google-auth<3,>=1.6.3\n",
      "  Downloading google_auth-2.25.2-py2.py3-none-any.whl (184 kB)\n",
      "     ---------------------------------------- 184.2/184.2 KB ? eta 0:00:00\n",
      "Collecting google-auth-oauthlib<2,>=0.5\n",
      "  Downloading google_auth_oauthlib-1.1.0-py2.py3-none-any.whl (19 kB)\n",
      "Collecting markdown>=2.6.8\n",
      "  Downloading Markdown-3.5.1-py3-none-any.whl (102 kB)\n",
      "     ---------------------------------------- 102.2/102.2 KB ? eta 0:00:00\n",
      "Requirement already satisfied: setuptools>=41.0.0 in .\\.democase8venv\\lib\\site-packages (from tensorboard>=1.14->-r ./requirements.txt (line 5)) (58.1.0)\n",
      "Collecting rsa<5,>=3.1.4\n",
      "  Using cached rsa-4.9-py3-none-any.whl (34 kB)\n",
      "Collecting cachetools<6.0,>=2.0.0\n",
      "  Using cached cachetools-5.3.2-py3-none-any.whl (9.3 kB)\n",
      "Collecting pyasn1-modules>=0.2.1\n",
      "  Using cached pyasn1_modules-0.3.0-py2.py3-none-any.whl (181 kB)\n",
      "Collecting requests-oauthlib>=0.7.0\n",
      "  Using cached requests_oauthlib-1.3.1-py2.py3-none-any.whl (23 kB)\n",
      "Requirement already satisfied: zipp>=3.1.0 in .\\.democase8venv\\lib\\site-packages (from importlib-resources>=3.2.0->matplotlib->-r ./requirements.txt (line 1)) (3.17.0)\n",
      "Requirement already satisfied: importlib-metadata>=4.4 in .\\.democase8venv\\lib\\site-packages (from markdown>=2.6.8->tensorboard>=1.14->-r ./requirements.txt (line 5)) (7.0.0)\n",
      "Requirement already satisfied: urllib3<3,>=1.21.1 in .\\.democase8venv\\lib\\site-packages (from requests<3,>=2.21.0->tensorboard>=1.14->-r ./requirements.txt (line 5)) (2.1.0)\n",
      "Requirement already satisfied: idna<4,>=2.5 in .\\.democase8venv\\lib\\site-packages (from requests<3,>=2.21.0->tensorboard>=1.14->-r ./requirements.txt (line 5)) (3.6)\n",
      "Requirement already satisfied: charset-normalizer<4,>=2 in .\\.democase8venv\\lib\\site-packages (from requests<3,>=2.21.0->tensorboard>=1.14->-r ./requirements.txt (line 5)) (3.3.2)\n",
      "Requirement already satisfied: certifi>=2017.4.17 in .\\.democase8venv\\lib\\site-packages (from requests<3,>=2.21.0->tensorboard>=1.14->-r ./requirements.txt (line 5)) (2023.11.17)\n",
      "Requirement already satisfied: MarkupSafe>=2.1.1 in .\\.democase8venv\\lib\\site-packages (from werkzeug>=1.0.1->tensorboard>=1.14->-r ./requirements.txt (line 5)) (2.1.3)\n",
      "Collecting pyasn1<0.6.0,>=0.4.6\n",
      "  Downloading pyasn1-0.5.1-py2.py3-none-any.whl (84 kB)\n",
      "     ---------------------------------------- 84.9/84.9 KB ? eta 0:00:00\n",
      "Collecting oauthlib>=3.0.0\n",
      "  Using cached oauthlib-3.2.2-py3-none-any.whl (151 kB)\n",
      "Installing collected packages: werkzeug, tqdm, tensorboard-data-server, pyparsing, pyasn1, protobuf, oauthlib, kiwisolver, importlib-resources, grpcio, fonttools, cycler, contourpy, cachetools, absl-py, rsa, requests-oauthlib, pyasn1-modules, matplotlib, markdown, pycocotools, google-auth, google-auth-oauthlib, tensorboard\n",
      "Successfully installed absl-py-2.0.0 cachetools-5.3.2 contourpy-1.2.0 cycler-0.12.1 fonttools-4.46.0 google-auth-2.25.2 google-auth-oauthlib-1.1.0 grpcio-1.60.0 importlib-resources-6.1.1 kiwisolver-1.4.5 markdown-3.5.1 matplotlib-3.8.2 oauthlib-3.2.2 protobuf-4.23.4 pyasn1-0.5.1 pyasn1-modules-0.3.0 pycocotools-2.0.7 pyparsing-3.1.1 requests-oauthlib-1.3.1 rsa-4.9 tensorboard-2.15.1 tensorboard-data-server-0.7.2 tqdm-4.66.1 werkzeug-3.0.1\n"
     ]
    },
    {
     "name": "stderr",
     "output_type": "stream",
     "text": [
      "WARNING: You are using pip version 22.0.4; however, version 23.3.1 is available.\n",
      "You should consider upgrading via the 'd:\\projects\\test_wav2lip\\socket_ml_orchestrator\\src\\pytaskqml\\utils\\sample\\demo_case8\\.democase8venv\\Scripts\\python.exe -m pip install --upgrade pip' command.\n"
     ]
    }
   ],
   "source": [
    "!python -m pip install -r ./requirements.txt"
   ]
  },
  {
   "cell_type": "code",
   "execution_count": 15,
   "metadata": {},
   "outputs": [
    {
     "name": "stderr",
     "output_type": "stream",
     "text": [
      "Cloning into 'PyTorch_YOLOv4'...\n"
     ]
    }
   ],
   "source": [
    "!git clone https://github.com/WongKinYiu/PyTorch_YOLOv4\n",
    "!git clone https://github.com/bubbliiiing/yolov4-tiny-pytorch.git"
   ]
  },
  {
   "cell_type": "code",
   "execution_count": 1,
   "metadata": {},
   "outputs": [
    {
     "name": "stdout",
     "output_type": "stream",
     "text": [
      "d:\\projects\\test_wav2lip\\socket_ml_orchestrator\\src\\pytaskqml\\utils\\sample\\demo_case8\\yolov4-tiny-pytorch\n"
     ]
    },
    {
     "name": "stderr",
     "output_type": "stream",
     "text": [
      "d:\\projects\\test_wav2lip\\socket_ml_orchestrator\\src\\pytaskqml\\utils\\sample\\demo_case8\\.democase8venv\\lib\\site-packages\\IPython\\core\\magics\\osm.py:417: UserWarning: using dhist requires you to install the `pickleshare` library.\n",
      "  self.shell.db['dhist'] = compress_dhist(dhist)[-100:]\n"
     ]
    }
   ],
   "source": [
    "cd yolov4-tiny-pytorch"
   ]
  },
  {
   "cell_type": "code",
   "execution_count": 2,
   "metadata": {},
   "outputs": [
    {
     "data": {
      "text/plain": [
       "'d:\\\\projects\\\\test_wav2lip\\\\socket_ml_orchestrator\\\\src\\\\pytaskqml\\\\utils\\\\sample\\\\demo_case8\\\\yolov4-tiny-pytorch'"
      ]
     },
     "execution_count": 2,
     "metadata": {},
     "output_type": "execute_result"
    }
   ],
   "source": [
    "pwd"
   ]
  },
  {
   "cell_type": "code",
   "execution_count": 3,
   "metadata": {},
   "outputs": [
    {
     "name": "stderr",
     "output_type": "stream",
     "text": [
      "Traceback (most recent call last):\n",
      "  File \"d:\\projects\\test_wav2lip\\socket_ml_orchestrator\\src\\pytaskqml\\utils\\sample\\demo_case8\\yolov4-tiny-pytorch\\predict.py\", line 75, in <module>\n",
      "    yolo = YOLO()\n",
      "  File \"d:\\projects\\test_wav2lip\\socket_ml_orchestrator\\src\\pytaskqml\\utils\\sample\\demo_case8\\yolov4-tiny-pytorch\\yolo.py\", line 98, in __init__\n",
      "    self.generate()\n",
      "  File \"d:\\projects\\test_wav2lip\\socket_ml_orchestrator\\src\\pytaskqml\\utils\\sample\\demo_case8\\yolov4-tiny-pytorch\\yolo.py\", line 111, in generate\n",
      "    self.net.load_state_dict(torch.load(self.model_path, map_location=device))\n",
      "  File \"d:\\projects\\test_wav2lip\\socket_ml_orchestrator\\src\\pytaskqml\\utils\\sample\\demo_case8\\.democase8venv\\lib\\site-packages\\torch\\serialization.py\", line 986, in load\n",
      "    with _open_file_like(f, 'rb') as opened_file:\n",
      "  File \"d:\\projects\\test_wav2lip\\socket_ml_orchestrator\\src\\pytaskqml\\utils\\sample\\demo_case8\\.democase8venv\\lib\\site-packages\\torch\\serialization.py\", line 435, in _open_file_like\n",
      "    return _open_file(name_or_buffer, mode)\n",
      "  File \"d:\\projects\\test_wav2lip\\socket_ml_orchestrator\\src\\pytaskqml\\utils\\sample\\demo_case8\\.democase8venv\\lib\\site-packages\\torch\\serialization.py\", line 416, in __init__\n",
      "    super().__init__(open(name, mode))\n",
      "FileNotFoundError: [Errno 2] No such file or directory: 'model_data/yolov4_tiny_weights_coco.pth'\n"
     ]
    }
   ],
   "source": [
    "!python predict.py"
   ]
  },
  {
   "cell_type": "code",
   "execution_count": 12,
   "metadata": {},
   "outputs": [
    {
     "ename": "ImportError",
     "evalue": "Matplotlib requires numpy>=1.21; you have 1.20.0",
     "output_type": "error",
     "traceback": [
      "\u001b[1;31m---------------------------------------------------------------------------\u001b[0m",
      "\u001b[1;31mImportError\u001b[0m                               Traceback (most recent call last)",
      "Cell \u001b[1;32mIn[12], line 1\u001b[0m\n\u001b[1;32m----> 1\u001b[0m \u001b[38;5;28;01mimport\u001b[39;00m \u001b[38;5;21;01mmatplotlib\u001b[39;00m\n",
      "File \u001b[1;32md:\\projects\\test_wav2lip\\socket_ml_orchestrator\\src\\pytaskqml\\utils\\sample\\demo_case8\\.democase8venv\\lib\\site-packages\\matplotlib\\__init__.py:286\u001b[0m\n\u001b[0;32m    281\u001b[0m         \u001b[38;5;28;01mif\u001b[39;00m parse_version(module\u001b[38;5;241m.\u001b[39m__version__) \u001b[38;5;241m<\u001b[39m parse_version(minver):\n\u001b[0;32m    282\u001b[0m             \u001b[38;5;28;01mraise\u001b[39;00m \u001b[38;5;167;01mImportError\u001b[39;00m(\u001b[38;5;124mf\u001b[39m\u001b[38;5;124m\"\u001b[39m\u001b[38;5;124mMatplotlib requires \u001b[39m\u001b[38;5;132;01m{\u001b[39;00mmodname\u001b[38;5;132;01m}\u001b[39;00m\u001b[38;5;124m>=\u001b[39m\u001b[38;5;132;01m{\u001b[39;00mminver\u001b[38;5;132;01m}\u001b[39;00m\u001b[38;5;124m; \u001b[39m\u001b[38;5;124m\"\u001b[39m\n\u001b[0;32m    283\u001b[0m                               \u001b[38;5;124mf\u001b[39m\u001b[38;5;124m\"\u001b[39m\u001b[38;5;124myou have \u001b[39m\u001b[38;5;132;01m{\u001b[39;00mmodule\u001b[38;5;241m.\u001b[39m__version__\u001b[38;5;132;01m}\u001b[39;00m\u001b[38;5;124m\"\u001b[39m)\n\u001b[1;32m--> 286\u001b[0m \u001b[43m_check_versions\u001b[49m\u001b[43m(\u001b[49m\u001b[43m)\u001b[49m\n\u001b[0;32m    289\u001b[0m \u001b[38;5;66;03m# The decorator ensures this always returns the same handler (and it is only\u001b[39;00m\n\u001b[0;32m    290\u001b[0m \u001b[38;5;66;03m# attached once).\u001b[39;00m\n\u001b[0;32m    291\u001b[0m \u001b[38;5;129m@functools\u001b[39m\u001b[38;5;241m.\u001b[39mcache\n\u001b[0;32m    292\u001b[0m \u001b[38;5;28;01mdef\u001b[39;00m \u001b[38;5;21m_ensure_handler\u001b[39m():\n",
      "File \u001b[1;32md:\\projects\\test_wav2lip\\socket_ml_orchestrator\\src\\pytaskqml\\utils\\sample\\demo_case8\\.democase8venv\\lib\\site-packages\\matplotlib\\__init__.py:282\u001b[0m, in \u001b[0;36m_check_versions\u001b[1;34m()\u001b[0m\n\u001b[0;32m    280\u001b[0m module \u001b[38;5;241m=\u001b[39m importlib\u001b[38;5;241m.\u001b[39mimport_module(modname)\n\u001b[0;32m    281\u001b[0m \u001b[38;5;28;01mif\u001b[39;00m parse_version(module\u001b[38;5;241m.\u001b[39m__version__) \u001b[38;5;241m<\u001b[39m parse_version(minver):\n\u001b[1;32m--> 282\u001b[0m     \u001b[38;5;28;01mraise\u001b[39;00m \u001b[38;5;167;01mImportError\u001b[39;00m(\u001b[38;5;124mf\u001b[39m\u001b[38;5;124m\"\u001b[39m\u001b[38;5;124mMatplotlib requires \u001b[39m\u001b[38;5;132;01m{\u001b[39;00mmodname\u001b[38;5;132;01m}\u001b[39;00m\u001b[38;5;124m>=\u001b[39m\u001b[38;5;132;01m{\u001b[39;00mminver\u001b[38;5;132;01m}\u001b[39;00m\u001b[38;5;124m; \u001b[39m\u001b[38;5;124m\"\u001b[39m\n\u001b[0;32m    283\u001b[0m                       \u001b[38;5;124mf\u001b[39m\u001b[38;5;124m\"\u001b[39m\u001b[38;5;124myou have \u001b[39m\u001b[38;5;132;01m{\u001b[39;00mmodule\u001b[38;5;241m.\u001b[39m__version__\u001b[38;5;132;01m}\u001b[39;00m\u001b[38;5;124m\"\u001b[39m)\n",
      "\u001b[1;31mImportError\u001b[0m: Matplotlib requires numpy>=1.21; you have 1.20.0"
     ]
    }
   ],
   "source": []
  }
 ],
 "metadata": {
  "kernelspec": {
   "display_name": "Python 3",
   "language": "python",
   "name": "python3"
  },
  "language_info": {
   "codemirror_mode": {
    "name": "ipython",
    "version": 3
   },
   "file_extension": ".py",
   "mimetype": "text/x-python",
   "name": "python",
   "nbconvert_exporter": "python",
   "pygments_lexer": "ipython3",
   "version": "3.9.13"
  }
 },
 "nbformat": 4,
 "nbformat_minor": 2
}
